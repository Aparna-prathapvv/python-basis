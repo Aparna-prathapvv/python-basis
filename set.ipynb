{
  "cells": [
    {
      "cell_type": "code",
      "execution_count": null,
      "metadata": {
        "id": "fyAPOa3J-x1n"
      },
      "outputs": [],
      "source": []
    },
    {
      "cell_type": "markdown",
      "source": [
        "create set\n"
      ],
      "metadata": {
        "id": "CayXonqRCghe"
      }
    },
    {
      "cell_type": "code",
      "execution_count": null,
      "metadata": {
        "colab": {
          "base_uri": "https://localhost:8080/"
        },
        "id": "LZaWYfEK-1IO",
        "outputId": "29940b58-7696-47b1-f343-32d70c4d9813"
      },
      "outputs": [
        {
          "output_type": "stream",
          "name": "stdout",
          "text": [
            "{'banana', 'cherry', 'apple'}\n"
          ]
        }
      ],
      "source": [
        "myset={\"apple\",\"banana\",\"cherry\",\"apple\",\"banana\"}\n",
        "print(myset)"
      ]
    },
    {
      "cell_type": "markdown",
      "source": [],
      "metadata": {
        "id": "S2td2cRYCfwf"
      }
    },
    {
      "cell_type": "markdown",
      "source": [
        "duplicate not allowed"
      ],
      "metadata": {
        "id": "1K9slhNcCpWi"
      }
    },
    {
      "cell_type": "code",
      "execution_count": null,
      "metadata": {
        "id": "4fN_qbWhhYz_"
      },
      "outputs": [],
      "source": [
        "set={12,23,12,44}"
      ]
    },
    {
      "cell_type": "markdown",
      "source": [],
      "metadata": {
        "id": "DnP1dd9mCea2"
      }
    },
    {
      "cell_type": "code",
      "execution_count": null,
      "metadata": {
        "colab": {
          "base_uri": "https://localhost:8080/"
        },
        "id": "RUfA4CEHjEWa",
        "outputId": "e43ed0ce-f2c5-486f-f9aa-dc3c88b323a1"
      },
      "outputs": [
        {
          "data": {
            "text/plain": [
              "{12, 23, 44}"
            ]
          },
          "execution_count": 7,
          "metadata": {},
          "output_type": "execute_result"
        }
      ],
      "source": [
        "set"
      ]
    },
    {
      "cell_type": "markdown",
      "source": [
        "type"
      ],
      "metadata": {
        "id": "T4wK_8i5DFZs"
      }
    },
    {
      "cell_type": "code",
      "execution_count": null,
      "metadata": {
        "colab": {
          "base_uri": "https://localhost:8080/"
        },
        "id": "lA4205N89qZc",
        "outputId": "72eef46d-3510-4b97-8b08-abfd56cb17e5"
      },
      "outputs": [
        {
          "output_type": "stream",
          "name": "stdout",
          "text": [
            "<class 'set'>\n"
          ]
        }
      ],
      "source": [
        "set={\"apple\",\"orange\",\"banana\"}\n",
        "print(type(set))"
      ]
    },
    {
      "cell_type": "markdown",
      "source": [
        "data type:boolean,int,character"
      ],
      "metadata": {
        "id": "RXq9DlX5JMu8"
      }
    },
    {
      "cell_type": "code",
      "execution_count": null,
      "metadata": {
        "id": "a3bc6g3BjGJk"
      },
      "outputs": [],
      "source": [
        "set1={\"apple\",\"banana\",\"cherry\"}\n",
        "set2={1,2,3,4,}\n",
        "set3={True,False,False}"
      ]
    },
    {
      "cell_type": "code",
      "source": [
        "print(set1)\n",
        "print(set2)\n",
        "print(set3)"
      ],
      "metadata": {
        "colab": {
          "base_uri": "https://localhost:8080/"
        },
        "id": "MW0VaZnp_DXx",
        "outputId": "f64846e4-4407-4721-eba0-2ced1ac43b46"
      },
      "execution_count": null,
      "outputs": [
        {
          "output_type": "stream",
          "name": "stdout",
          "text": [
            "{'banana', 'cherry', 'apple'}\n",
            "{1, 2, 3, 4}\n",
            "{False, True}\n"
          ]
        }
      ]
    },
    {
      "cell_type": "code",
      "source": [
        "\n",
        "set={\"a\",1,\"true\",\"male\",40}\n",
        "print(set)\n"
      ],
      "metadata": {
        "colab": {
          "base_uri": "https://localhost:8080/"
        },
        "id": "NbPl_tVC_G5n",
        "outputId": "06e6558d-4f51-4239-f75e-69e2a4249d59"
      },
      "execution_count": null,
      "outputs": [
        {
          "output_type": "stream",
          "name": "stdout",
          "text": [
            "{1, 'true', 'male', 40, 'a'}\n"
          ]
        }
      ]
    },
    {
      "cell_type": "markdown",
      "source": [
        "length"
      ],
      "metadata": {
        "id": "ish49HWJCH8p"
      }
    },
    {
      "cell_type": "markdown",
      "source": [],
      "metadata": {
        "id": "YeTf1AGBCGvn"
      }
    },
    {
      "cell_type": "code",
      "source": [
        "thisset={\"apple\",\"orange\",\"banana\"}\n",
        "print(len(thisset))"
      ],
      "metadata": {
        "colab": {
          "base_uri": "https://localhost:8080/"
        },
        "id": "BWq8MiVE_4kY",
        "outputId": "76514ee4-ce58-4f45-f224-8b7f4e2f8053"
      },
      "execution_count": null,
      "outputs": [
        {
          "output_type": "stream",
          "name": "stdout",
          "text": [
            "3\n"
          ]
        }
      ]
    },
    {
      "cell_type": "code",
      "source": [],
      "metadata": {
        "id": "zLJSnYEKAl1v"
      },
      "execution_count": null,
      "outputs": []
    },
    {
      "cell_type": "markdown",
      "source": [
        "access set"
      ],
      "metadata": {
        "id": "3olmS8bVP1I7"
      }
    },
    {
      "cell_type": "code",
      "source": [
        "thisset={\"apple\",\"banana\",\"orange\"}\n",
        "for x  in thisset:\n",
        "  print(x)"
      ],
      "metadata": {
        "colab": {
          "base_uri": "https://localhost:8080/"
        },
        "id": "gru9tt-QP3LP",
        "outputId": "b1a1a83d-a8bd-4b7e-e61a-918d544014c7"
      },
      "execution_count": null,
      "outputs": [
        {
          "output_type": "stream",
          "name": "stdout",
          "text": [
            "apple\n",
            "orange\n",
            "banana\n"
          ]
        }
      ]
    },
    {
      "cell_type": "code",
      "source": [
        "thisset={\"apple\",\"banana\",\"orange\"}\n",
        "print( \"banana\" in thisset)"
      ],
      "metadata": {
        "colab": {
          "base_uri": "https://localhost:8080/"
        },
        "id": "FqaRGYcXQQdm",
        "outputId": "bceeca4b-8bbf-4daa-8b90-65aa280e7fdf"
      },
      "execution_count": null,
      "outputs": [
        {
          "output_type": "stream",
          "name": "stdout",
          "text": [
            "True\n"
          ]
        }
      ]
    },
    {
      "cell_type": "code",
      "source": [],
      "metadata": {
        "id": "YYeAqJ4CQrwm"
      },
      "execution_count": null,
      "outputs": []
    },
    {
      "cell_type": "markdown",
      "source": [
        "add"
      ],
      "metadata": {
        "id": "w7XZjLsOQ968"
      }
    },
    {
      "cell_type": "code",
      "source": [
        "thisset={\"apple\",\"orange\"}\n",
        "thisset.add(\"cherry\")\n",
        "print(thisset)"
      ],
      "metadata": {
        "colab": {
          "base_uri": "https://localhost:8080/"
        },
        "id": "qlLw_g8sQ-hY",
        "outputId": "de7a8a16-0fb6-4b52-aa9e-8fdf9f1342c1"
      },
      "execution_count": null,
      "outputs": [
        {
          "output_type": "stream",
          "name": "stdout",
          "text": [
            "{'apple', 'orange', 'cherry'}\n"
          ]
        }
      ]
    },
    {
      "cell_type": "code",
      "source": [],
      "metadata": {
        "id": "uVgdFYO4RNMx"
      },
      "execution_count": null,
      "outputs": []
    },
    {
      "cell_type": "markdown",
      "source": [
        "set add"
      ],
      "metadata": {
        "id": "YjWP2UzcRSYo"
      }
    },
    {
      "cell_type": "code",
      "source": [
        "thisset={\"apple\",\"banana\",\"cherry\"}\n",
        "tropical={\"pinapple\",\"mango\",\"papaya\"}\n",
        "thisset.update(tropical)\n",
        "print(thisset)"
      ],
      "metadata": {
        "colab": {
          "base_uri": "https://localhost:8080/"
        },
        "id": "0yZ4YtPwRTmW",
        "outputId": "731f4768-90c6-426b-acdc-42227d8e9de4"
      },
      "execution_count": null,
      "outputs": [
        {
          "output_type": "stream",
          "name": "stdout",
          "text": [
            "{'papaya', 'mango', 'pinapple'}\n"
          ]
        }
      ]
    },
    {
      "cell_type": "code",
      "source": [
        "thisset={\"apple\",\"banana\",\"cherry\"}\n",
        "mylist={\"kiwi\",\"orange\"}\n",
        "thisset.update(mylist)\n",
        "print(thisset)"
      ],
      "metadata": {
        "colab": {
          "base_uri": "https://localhost:8080/"
        },
        "id": "wc2vWdLUTKl6",
        "outputId": "3af6fead-23cc-400e-9d5d-e82ee930afc8"
      },
      "execution_count": 1,
      "outputs": [
        {
          "output_type": "stream",
          "name": "stdout",
          "text": [
            "{'cherry', 'kiwi', 'banana', 'apple', 'orange'}\n"
          ]
        }
      ]
    },
    {
      "cell_type": "code",
      "source": [],
      "metadata": {
        "id": "_TS3QFuiXFGq"
      },
      "execution_count": null,
      "outputs": []
    }
  ],
  "metadata": {
    "colab": {
      "provenance": []
    },
    "kernelspec": {
      "display_name": "Python 3",
      "name": "python3"
    },
    "language_info": {
      "name": "python"
    }
  },
  "nbformat": 4,
  "nbformat_minor": 0
}